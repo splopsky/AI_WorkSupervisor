{
 "cells": [
  {
   "cell_type": "code",
   "execution_count": 2,
   "id": "0466e198",
   "metadata": {},
   "outputs": [],
   "source": [
    "import mediapipe as mp # Import mediapipe\n",
    "import cv2 # Import opencv"
   ]
  },
  {
   "cell_type": "code",
   "execution_count": 5,
   "id": "13aa4554",
   "metadata": {},
   "outputs": [],
   "source": [
    "import csv\n",
    "import os\n",
    "import numpy as np"
   ]
  },
  {
   "cell_type": "code",
   "execution_count": 3,
   "id": "dbd8c9b6",
   "metadata": {},
   "outputs": [],
   "source": [
    "mp_drawing = mp.solutions.drawing_utils # Drawing helpers\n",
    "mp_pose = mp.solutions.pose # Mediapipe Solutions"
   ]
  },
  {
   "cell_type": "code",
   "execution_count": 4,
   "id": "796f58a6",
   "metadata": {},
   "outputs": [],
   "source": [
    "cap = cv2.VideoCapture(0)\n",
    "# Initiate holistic model\n",
    "with mp_pose.Pose(min_detection_confidence=0.5, min_tracking_confidence=0.5) as pose:\n",
    "    \n",
    "    while cap.isOpened():\n",
    "        ret, frame = cap.read()\n",
    "        \n",
    "        # Recolor Feed\n",
    "        image = cv2.cvtColor(frame, cv2.COLOR_BGR2RGB)\n",
    "        image.flags.writeable = False        \n",
    "        \n",
    "        # Make Detections\n",
    "        results = pose.process(image)\n",
    "        \n",
    "        # Recolor image back to BGR for rendering\n",
    "        image.flags.writeable = True   \n",
    "        image = cv2.cvtColor(image, cv2.COLOR_RGB2BGR)\n",
    "        \n",
    "        #print(results.pose_landmarks.landmark)\n",
    "        \n",
    "        \n",
    "        # 4. Pose Detections\n",
    "        mp_drawing.draw_landmarks(image, results.pose_landmarks, mp_pose.POSE_CONNECTIONS, \n",
    "                                 mp_drawing.DrawingSpec(color=(245,117,66), thickness=2, circle_radius=4),\n",
    "                                 mp_drawing.DrawingSpec(color=(245,66,230), thickness=2, circle_radius=2)\n",
    "                                 )\n",
    "                        \n",
    "        cv2.imshow('Raw Webcam Feed', cv2.flip(image, 1))\n",
    "\n",
    "        if cv2.waitKey(10) & 0xFF == ord('q'):\n",
    "            break\n",
    "\n",
    "cap.release()\n",
    "cv2.destroyAllWindows()"
   ]
  },
  {
   "cell_type": "code",
   "execution_count": 6,
   "id": "d93827df",
   "metadata": {},
   "outputs": [
    {
     "data": {
      "text/plain": [
       "33"
      ]
     },
     "execution_count": 6,
     "metadata": {},
     "output_type": "execute_result"
    }
   ],
   "source": [
    "num_coords = len(results.pose_landmarks.landmark)"
   ]
  },
  {
   "cell_type": "code",
   "execution_count": 7,
   "id": "ae0bba96",
   "metadata": {},
   "outputs": [],
   "source": [
    "# 좌표 저장을 위한 리스트 생성. 첫번째 항목은 분류할 동작의 클래스 이름.\n",
    "landmarks = ['class']\n",
    "for val in range(1, num_coords+1):\n",
    "    landmarks += ['x{}'.format(val), 'y{}'.format(val), 'z{}'.format(val), 'v{}'.format(val)]"
   ]
  },
  {
   "cell_type": "code",
   "execution_count": 8,
   "id": "aedc47b2",
   "metadata": {},
   "outputs": [
    {
     "data": {
      "text/plain": [
       "['class',\n",
       " 'x1',\n",
       " 'y1',\n",
       " 'z1',\n",
       " 'v1',\n",
       " 'x2',\n",
       " 'y2',\n",
       " 'z2',\n",
       " 'v2',\n",
       " 'x3',\n",
       " 'y3',\n",
       " 'z3',\n",
       " 'v3',\n",
       " 'x4',\n",
       " 'y4',\n",
       " 'z4',\n",
       " 'v4',\n",
       " 'x5',\n",
       " 'y5',\n",
       " 'z5',\n",
       " 'v5',\n",
       " 'x6',\n",
       " 'y6',\n",
       " 'z6',\n",
       " 'v6',\n",
       " 'x7',\n",
       " 'y7',\n",
       " 'z7',\n",
       " 'v7',\n",
       " 'x8',\n",
       " 'y8',\n",
       " 'z8',\n",
       " 'v8',\n",
       " 'x9',\n",
       " 'y9',\n",
       " 'z9',\n",
       " 'v9',\n",
       " 'x10',\n",
       " 'y10',\n",
       " 'z10',\n",
       " 'v10',\n",
       " 'x11',\n",
       " 'y11',\n",
       " 'z11',\n",
       " 'v11',\n",
       " 'x12',\n",
       " 'y12',\n",
       " 'z12',\n",
       " 'v12',\n",
       " 'x13',\n",
       " 'y13',\n",
       " 'z13',\n",
       " 'v13',\n",
       " 'x14',\n",
       " 'y14',\n",
       " 'z14',\n",
       " 'v14',\n",
       " 'x15',\n",
       " 'y15',\n",
       " 'z15',\n",
       " 'v15',\n",
       " 'x16',\n",
       " 'y16',\n",
       " 'z16',\n",
       " 'v16',\n",
       " 'x17',\n",
       " 'y17',\n",
       " 'z17',\n",
       " 'v17',\n",
       " 'x18',\n",
       " 'y18',\n",
       " 'z18',\n",
       " 'v18',\n",
       " 'x19',\n",
       " 'y19',\n",
       " 'z19',\n",
       " 'v19',\n",
       " 'x20',\n",
       " 'y20',\n",
       " 'z20',\n",
       " 'v20',\n",
       " 'x21',\n",
       " 'y21',\n",
       " 'z21',\n",
       " 'v21',\n",
       " 'x22',\n",
       " 'y22',\n",
       " 'z22',\n",
       " 'v22',\n",
       " 'x23',\n",
       " 'y23',\n",
       " 'z23',\n",
       " 'v23',\n",
       " 'x24',\n",
       " 'y24',\n",
       " 'z24',\n",
       " 'v24',\n",
       " 'x25',\n",
       " 'y25',\n",
       " 'z25',\n",
       " 'v25',\n",
       " 'x26',\n",
       " 'y26',\n",
       " 'z26',\n",
       " 'v26',\n",
       " 'x27',\n",
       " 'y27',\n",
       " 'z27',\n",
       " 'v27',\n",
       " 'x28',\n",
       " 'y28',\n",
       " 'z28',\n",
       " 'v28',\n",
       " 'x29',\n",
       " 'y29',\n",
       " 'z29',\n",
       " 'v29',\n",
       " 'x30',\n",
       " 'y30',\n",
       " 'z30',\n",
       " 'v30',\n",
       " 'x31',\n",
       " 'y31',\n",
       " 'z31',\n",
       " 'v31',\n",
       " 'x32',\n",
       " 'y32',\n",
       " 'z32',\n",
       " 'v32',\n",
       " 'x33',\n",
       " 'y33',\n",
       " 'z33',\n",
       " 'v33']"
      ]
     },
     "execution_count": 8,
     "metadata": {},
     "output_type": "execute_result"
    }
   ],
   "source": [
    "landmarks"
   ]
  },
  {
   "cell_type": "code",
   "execution_count": 9,
   "id": "a34ae65a",
   "metadata": {},
   "outputs": [],
   "source": [
    "with open('coords.csv', mode='w', newline='') as f:\n",
    "    csv_writer = csv.writer(f, delimiter=',', quotechar='\"', quoting=csv.QUOTE_MINIMAL)\n",
    "    csv_writer.writerow(landmarks)"
   ]
  },
  {
   "cell_type": "code",
   "execution_count": 11,
   "id": "02f09710",
   "metadata": {},
   "outputs": [],
   "source": [
    "class_name = \"test3\""
   ]
  },
  {
   "cell_type": "code",
   "execution_count": 10,
   "id": "e3ccc8af",
   "metadata": {
    "scrolled": true
   },
   "outputs": [
    {
     "data": {
      "text/plain": [
       "array([['-0.0149415', '-0.6078424', '-0.2467936', '0.9940937'],\n",
       "       ['-0.0072510', '-0.6458107', '-0.2242905', '0.9952055'],\n",
       "       ['-0.0067131', '-0.6458990', '-0.2238067', '0.9955044'],\n",
       "       ['-0.0073376', '-0.6460136', '-0.2247227', '0.9954423'],\n",
       "       ['-0.0391508', '-0.6401318', '-0.2253643', '0.9950687'],\n",
       "       ['-0.0386928', '-0.6408745', '-0.2269329', '0.9951280'],\n",
       "       ['-0.0393487', '-0.6418896', '-0.2269572', '0.9950026'],\n",
       "       ['0.0386530', '-0.6242712', '-0.1098449', '0.9957267'],\n",
       "       ['-0.1071270', '-0.6109949', '-0.1277751', '0.9960247'],\n",
       "       ['0.0060429', '-0.5791412', '-0.2108477', '0.9716102'],\n",
       "       ['-0.0366616', '-0.5735455', '-0.2138009', '0.9729030'],\n",
       "       ['0.1273482', '-0.4623350', '-0.0875965', '0.2573666'],\n",
       "       ['-0.1796754', '-0.4326198', '-0.1064994', '0.2537144'],\n",
       "       ['0.1398383', '-0.4254429', '-0.2265598', '0.0660827'],\n",
       "       ['-0.1720752', '-0.3923686', '-0.2315814', '0.0916900'],\n",
       "       ['0.0627333', '-0.4897183', '-0.3414450', '0.0281347'],\n",
       "       ['-0.1079378', '-0.5054097', '-0.3521799', '0.0370190'],\n",
       "       ['0.0451604', '-0.4847712', '-0.3579902', '0.0474530'],\n",
       "       ['-0.0762676', '-0.5174535', '-0.3773448', '0.0629017'],\n",
       "       ['0.0365139', '-0.5002359', '-0.3563674', '0.0625831'],\n",
       "       ['-0.0784727', '-0.5411289', '-0.3592628', '0.0825363'],\n",
       "       ['0.0522624', '-0.4861053', '-0.3374903', '0.0618773'],\n",
       "       ['-0.0977907', '-0.5082194', '-0.3499051', '0.0730572'],\n",
       "       ['0.1311406', '-0.0074792', '0.0134426', '0.0008237'],\n",
       "       ['-0.1316029', '-0.0194462', '-0.0086995', '0.0007675'],\n",
       "       ['0.1206476', '-0.2906778', '-0.2379693', '0.0123563'],\n",
       "       ['-0.1407632', '-0.4349844', '-0.2366062', '0.0160108'],\n",
       "       ['0.1875387', '-0.1719619', '-0.0518948', '0.0010970'],\n",
       "       ['-0.0422991', '-0.2673992', '-0.1371526', '0.0006014'],\n",
       "       ['0.1765257', '-0.1135386', '0.0025793', '0.0008798'],\n",
       "       ['-0.0408917', '-0.2098413', '-0.0648247', '0.0004341'],\n",
       "       ['0.2750725', '-0.5502139', '-0.3176884', '0.0034798'],\n",
       "       ['-0.0228914', '-0.4847012', '-0.3517265', '0.0019834']],\n",
       "      dtype='<U10')"
      ]
     },
     "execution_count": 10,
     "metadata": {},
     "output_type": "execute_result"
    }
   ],
   "source": [
    "np.array([[\"{:.7f}\".format(landmark.x), \"{:.7f}\".format(landmark.y), \"{:.7f}\".format(landmark.z), \"{:.7f}\".format(landmark.visibility)] for landmark in results.pose_world_landmarks.landmark])"
   ]
  },
  {
   "cell_type": "code",
   "execution_count": 13,
   "id": "291ca2fc",
   "metadata": {},
   "outputs": [],
   "source": [
    "pose = results.pose_world_landmarks.landmark\n",
    "pose_row = list(np.array([[\"{:.7f}\".format(landmark.x), \"{:.7f}\".format(landmark.y), \"{:.7f}\".format(landmark.z), \"{:.7f}\".format(landmark.visibility)] for landmark in pose]).flatten())\n",
    "            \n",
    "# Concate rows\n",
    "row = pose_row\n",
    "            \n",
    "# Append class name \n",
    "row.insert(0, class_name)\n",
    "            \n",
    "# Export to CSV\n",
    "with open('coords.csv', mode='a', newline='') as f:\n",
    "    csv_writer = csv.writer(f, delimiter=',', quotechar='\"', quoting=csv.QUOTE_MINIMAL)\n",
    "    csv_writer.writerow(row) "
   ]
  },
  {
   "cell_type": "code",
   "execution_count": null,
   "id": "8b467fcd",
   "metadata": {},
   "outputs": [],
   "source": []
  }
 ],
 "metadata": {
  "kernelspec": {
   "display_name": "Python 3",
   "language": "python",
   "name": "python3"
  },
  "language_info": {
   "codemirror_mode": {
    "name": "ipython",
    "version": 3
   },
   "file_extension": ".py",
   "mimetype": "text/x-python",
   "name": "python",
   "nbconvert_exporter": "python",
   "pygments_lexer": "ipython3",
   "version": "3.8.8"
  }
 },
 "nbformat": 4,
 "nbformat_minor": 5
}
