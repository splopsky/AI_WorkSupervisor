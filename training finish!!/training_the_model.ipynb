{
 "cells": [
  {
   "cell_type": "code",
   "execution_count": 53,
   "id": "963eaff3",
   "metadata": {},
   "outputs": [],
   "source": [
    "import pandas as pd\n",
    "from sklearn.model_selection import train_test_split\n",
    "from sklearn.pipeline import make_pipeline \n",
    "from sklearn.preprocessing import StandardScaler \n",
    "\n",
    "from sklearn.linear_model import LogisticRegression, RidgeClassifier\n",
    "from sklearn.ensemble import RandomForestClassifier, GradientBoostingClassifier"
   ]
  },
  {
   "cell_type": "code",
   "execution_count": 70,
   "id": "5e34d9f7",
   "metadata": {},
   "outputs": [],
   "source": [
    "df = pd.read_csv('legs2.csv')"
   ]
  },
  {
   "cell_type": "code",
   "execution_count": 71,
   "id": "7f158e79",
   "metadata": {
    "scrolled": true
   },
   "outputs": [
    {
     "data": {
      "text/html": [
       "<div>\n",
       "<style scoped>\n",
       "    .dataframe tbody tr th:only-of-type {\n",
       "        vertical-align: middle;\n",
       "    }\n",
       "\n",
       "    .dataframe tbody tr th {\n",
       "        vertical-align: top;\n",
       "    }\n",
       "\n",
       "    .dataframe thead th {\n",
       "        text-align: right;\n",
       "    }\n",
       "</style>\n",
       "<table border=\"1\" class=\"dataframe\">\n",
       "  <thead>\n",
       "    <tr style=\"text-align: right;\">\n",
       "      <th></th>\n",
       "      <th>class</th>\n",
       "      <th>x1</th>\n",
       "      <th>y1</th>\n",
       "      <th>z1</th>\n",
       "      <th>v1</th>\n",
       "      <th>x2</th>\n",
       "      <th>y2</th>\n",
       "      <th>z2</th>\n",
       "      <th>v2</th>\n",
       "      <th>x3</th>\n",
       "      <th>...</th>\n",
       "      <th>z31</th>\n",
       "      <th>v31</th>\n",
       "      <th>x32</th>\n",
       "      <th>y32</th>\n",
       "      <th>z32</th>\n",
       "      <th>v32</th>\n",
       "      <th>x33</th>\n",
       "      <th>y33</th>\n",
       "      <th>z33</th>\n",
       "      <th>v33</th>\n",
       "    </tr>\n",
       "  </thead>\n",
       "  <tbody>\n",
       "    <tr>\n",
       "      <th>0</th>\n",
       "      <td>1</td>\n",
       "      <td>0.039570</td>\n",
       "      <td>-0.567787</td>\n",
       "      <td>-0.257545</td>\n",
       "      <td>0.999998</td>\n",
       "      <td>0.043327</td>\n",
       "      <td>-0.604154</td>\n",
       "      <td>-0.240470</td>\n",
       "      <td>0.999997</td>\n",
       "      <td>0.043676</td>\n",
       "      <td>...</td>\n",
       "      <td>-0.220475</td>\n",
       "      <td>0.953017</td>\n",
       "      <td>0.292999</td>\n",
       "      <td>0.660746</td>\n",
       "      <td>-0.384417</td>\n",
       "      <td>0.996053</td>\n",
       "      <td>-0.122886</td>\n",
       "      <td>0.699967</td>\n",
       "      <td>-0.368827</td>\n",
       "      <td>0.994110</td>\n",
       "    </tr>\n",
       "    <tr>\n",
       "      <th>1</th>\n",
       "      <td>1</td>\n",
       "      <td>0.039004</td>\n",
       "      <td>-0.565416</td>\n",
       "      <td>-0.281327</td>\n",
       "      <td>0.999998</td>\n",
       "      <td>0.041631</td>\n",
       "      <td>-0.602813</td>\n",
       "      <td>-0.265975</td>\n",
       "      <td>0.999997</td>\n",
       "      <td>0.041999</td>\n",
       "      <td>...</td>\n",
       "      <td>-0.220160</td>\n",
       "      <td>0.952492</td>\n",
       "      <td>0.273050</td>\n",
       "      <td>0.643692</td>\n",
       "      <td>-0.383286</td>\n",
       "      <td>0.995981</td>\n",
       "      <td>-0.125977</td>\n",
       "      <td>0.659915</td>\n",
       "      <td>-0.368469</td>\n",
       "      <td>0.993931</td>\n",
       "    </tr>\n",
       "    <tr>\n",
       "      <th>2</th>\n",
       "      <td>1</td>\n",
       "      <td>0.039426</td>\n",
       "      <td>-0.561629</td>\n",
       "      <td>-0.284335</td>\n",
       "      <td>0.999998</td>\n",
       "      <td>0.041693</td>\n",
       "      <td>-0.599967</td>\n",
       "      <td>-0.269040</td>\n",
       "      <td>0.999997</td>\n",
       "      <td>0.042064</td>\n",
       "      <td>...</td>\n",
       "      <td>-0.225537</td>\n",
       "      <td>0.951611</td>\n",
       "      <td>0.267971</td>\n",
       "      <td>0.632823</td>\n",
       "      <td>-0.384510</td>\n",
       "      <td>0.995890</td>\n",
       "      <td>-0.126485</td>\n",
       "      <td>0.646659</td>\n",
       "      <td>-0.373699</td>\n",
       "      <td>0.993666</td>\n",
       "    </tr>\n",
       "    <tr>\n",
       "      <th>3</th>\n",
       "      <td>1</td>\n",
       "      <td>0.039566</td>\n",
       "      <td>-0.557739</td>\n",
       "      <td>-0.297830</td>\n",
       "      <td>0.999998</td>\n",
       "      <td>0.041760</td>\n",
       "      <td>-0.596768</td>\n",
       "      <td>-0.282646</td>\n",
       "      <td>0.999996</td>\n",
       "      <td>0.042131</td>\n",
       "      <td>...</td>\n",
       "      <td>-0.226616</td>\n",
       "      <td>0.951067</td>\n",
       "      <td>0.269043</td>\n",
       "      <td>0.635299</td>\n",
       "      <td>-0.370575</td>\n",
       "      <td>0.995757</td>\n",
       "      <td>-0.127345</td>\n",
       "      <td>0.649464</td>\n",
       "      <td>-0.374567</td>\n",
       "      <td>0.993527</td>\n",
       "    </tr>\n",
       "    <tr>\n",
       "      <th>4</th>\n",
       "      <td>1</td>\n",
       "      <td>0.039567</td>\n",
       "      <td>-0.556682</td>\n",
       "      <td>-0.297843</td>\n",
       "      <td>0.999998</td>\n",
       "      <td>0.041675</td>\n",
       "      <td>-0.595925</td>\n",
       "      <td>-0.282617</td>\n",
       "      <td>0.999996</td>\n",
       "      <td>0.042046</td>\n",
       "      <td>...</td>\n",
       "      <td>-0.226501</td>\n",
       "      <td>0.950253</td>\n",
       "      <td>0.267882</td>\n",
       "      <td>0.634647</td>\n",
       "      <td>-0.370522</td>\n",
       "      <td>0.995655</td>\n",
       "      <td>-0.127405</td>\n",
       "      <td>0.644297</td>\n",
       "      <td>-0.374488</td>\n",
       "      <td>0.993341</td>\n",
       "    </tr>\n",
       "    <tr>\n",
       "      <th>...</th>\n",
       "      <td>...</td>\n",
       "      <td>...</td>\n",
       "      <td>...</td>\n",
       "      <td>...</td>\n",
       "      <td>...</td>\n",
       "      <td>...</td>\n",
       "      <td>...</td>\n",
       "      <td>...</td>\n",
       "      <td>...</td>\n",
       "      <td>...</td>\n",
       "      <td>...</td>\n",
       "      <td>...</td>\n",
       "      <td>...</td>\n",
       "      <td>...</td>\n",
       "      <td>...</td>\n",
       "      <td>...</td>\n",
       "      <td>...</td>\n",
       "      <td>...</td>\n",
       "      <td>...</td>\n",
       "      <td>...</td>\n",
       "      <td>...</td>\n",
       "    </tr>\n",
       "    <tr>\n",
       "      <th>6241</th>\n",
       "      <td>1</td>\n",
       "      <td>0.016124</td>\n",
       "      <td>-0.575379</td>\n",
       "      <td>-0.304474</td>\n",
       "      <td>0.998600</td>\n",
       "      <td>0.021014</td>\n",
       "      <td>-0.613406</td>\n",
       "      <td>-0.288696</td>\n",
       "      <td>0.997064</td>\n",
       "      <td>0.021720</td>\n",
       "      <td>...</td>\n",
       "      <td>-0.034580</td>\n",
       "      <td>0.002920</td>\n",
       "      <td>0.321504</td>\n",
       "      <td>0.019243</td>\n",
       "      <td>-0.222952</td>\n",
       "      <td>0.001570</td>\n",
       "      <td>-0.017002</td>\n",
       "      <td>-0.211147</td>\n",
       "      <td>-0.416658</td>\n",
       "      <td>0.001842</td>\n",
       "    </tr>\n",
       "    <tr>\n",
       "      <th>6242</th>\n",
       "      <td>1</td>\n",
       "      <td>0.016185</td>\n",
       "      <td>-0.577059</td>\n",
       "      <td>-0.292252</td>\n",
       "      <td>0.998709</td>\n",
       "      <td>0.021096</td>\n",
       "      <td>-0.615299</td>\n",
       "      <td>-0.274426</td>\n",
       "      <td>0.997282</td>\n",
       "      <td>0.021802</td>\n",
       "      <td>...</td>\n",
       "      <td>-0.039651</td>\n",
       "      <td>0.002629</td>\n",
       "      <td>0.315388</td>\n",
       "      <td>0.040433</td>\n",
       "      <td>-0.222015</td>\n",
       "      <td>0.001416</td>\n",
       "      <td>-0.015708</td>\n",
       "      <td>-0.197609</td>\n",
       "      <td>-0.423812</td>\n",
       "      <td>0.001660</td>\n",
       "    </tr>\n",
       "    <tr>\n",
       "      <th>6243</th>\n",
       "      <td>1</td>\n",
       "      <td>0.015414</td>\n",
       "      <td>-0.577396</td>\n",
       "      <td>-0.293026</td>\n",
       "      <td>0.998817</td>\n",
       "      <td>0.020439</td>\n",
       "      <td>-0.615592</td>\n",
       "      <td>-0.275745</td>\n",
       "      <td>0.997494</td>\n",
       "      <td>0.021103</td>\n",
       "      <td>...</td>\n",
       "      <td>-0.038086</td>\n",
       "      <td>0.002367</td>\n",
       "      <td>0.325825</td>\n",
       "      <td>-0.002948</td>\n",
       "      <td>-0.218240</td>\n",
       "      <td>0.001276</td>\n",
       "      <td>-0.013637</td>\n",
       "      <td>-0.229144</td>\n",
       "      <td>-0.428026</td>\n",
       "      <td>0.001496</td>\n",
       "    </tr>\n",
       "    <tr>\n",
       "      <th>6244</th>\n",
       "      <td>1</td>\n",
       "      <td>0.015464</td>\n",
       "      <td>-0.577602</td>\n",
       "      <td>-0.287345</td>\n",
       "      <td>0.998912</td>\n",
       "      <td>0.020491</td>\n",
       "      <td>-0.615704</td>\n",
       "      <td>-0.272779</td>\n",
       "      <td>0.997688</td>\n",
       "      <td>0.021157</td>\n",
       "      <td>...</td>\n",
       "      <td>-0.063344</td>\n",
       "      <td>0.002132</td>\n",
       "      <td>0.324135</td>\n",
       "      <td>-0.013504</td>\n",
       "      <td>-0.255962</td>\n",
       "      <td>0.001151</td>\n",
       "      <td>-0.014629</td>\n",
       "      <td>-0.220796</td>\n",
       "      <td>-0.448038</td>\n",
       "      <td>0.001347</td>\n",
       "    </tr>\n",
       "    <tr>\n",
       "      <th>6245</th>\n",
       "      <td>1</td>\n",
       "      <td>0.015414</td>\n",
       "      <td>-0.579314</td>\n",
       "      <td>-0.283191</td>\n",
       "      <td>0.998995</td>\n",
       "      <td>0.020503</td>\n",
       "      <td>-0.617014</td>\n",
       "      <td>-0.269191</td>\n",
       "      <td>0.997853</td>\n",
       "      <td>0.021146</td>\n",
       "      <td>...</td>\n",
       "      <td>-0.071588</td>\n",
       "      <td>0.001920</td>\n",
       "      <td>0.322969</td>\n",
       "      <td>-0.005592</td>\n",
       "      <td>-0.269303</td>\n",
       "      <td>0.001039</td>\n",
       "      <td>-0.015451</td>\n",
       "      <td>-0.211065</td>\n",
       "      <td>-0.455017</td>\n",
       "      <td>0.001215</td>\n",
       "    </tr>\n",
       "  </tbody>\n",
       "</table>\n",
       "<p>722 rows × 133 columns</p>\n",
       "</div>"
      ],
      "text/plain": [
       "     class        x1        y1        z1        v1        x2        y2  \\\n",
       "0        1  0.039570 -0.567787 -0.257545  0.999998  0.043327 -0.604154   \n",
       "1        1  0.039004 -0.565416 -0.281327  0.999998  0.041631 -0.602813   \n",
       "2        1  0.039426 -0.561629 -0.284335  0.999998  0.041693 -0.599967   \n",
       "3        1  0.039566 -0.557739 -0.297830  0.999998  0.041760 -0.596768   \n",
       "4        1  0.039567 -0.556682 -0.297843  0.999998  0.041675 -0.595925   \n",
       "...    ...       ...       ...       ...       ...       ...       ...   \n",
       "6241     1  0.016124 -0.575379 -0.304474  0.998600  0.021014 -0.613406   \n",
       "6242     1  0.016185 -0.577059 -0.292252  0.998709  0.021096 -0.615299   \n",
       "6243     1  0.015414 -0.577396 -0.293026  0.998817  0.020439 -0.615592   \n",
       "6244     1  0.015464 -0.577602 -0.287345  0.998912  0.020491 -0.615704   \n",
       "6245     1  0.015414 -0.579314 -0.283191  0.998995  0.020503 -0.617014   \n",
       "\n",
       "            z2        v2        x3  ...       z31       v31       x32  \\\n",
       "0    -0.240470  0.999997  0.043676  ... -0.220475  0.953017  0.292999   \n",
       "1    -0.265975  0.999997  0.041999  ... -0.220160  0.952492  0.273050   \n",
       "2    -0.269040  0.999997  0.042064  ... -0.225537  0.951611  0.267971   \n",
       "3    -0.282646  0.999996  0.042131  ... -0.226616  0.951067  0.269043   \n",
       "4    -0.282617  0.999996  0.042046  ... -0.226501  0.950253  0.267882   \n",
       "...        ...       ...       ...  ...       ...       ...       ...   \n",
       "6241 -0.288696  0.997064  0.021720  ... -0.034580  0.002920  0.321504   \n",
       "6242 -0.274426  0.997282  0.021802  ... -0.039651  0.002629  0.315388   \n",
       "6243 -0.275745  0.997494  0.021103  ... -0.038086  0.002367  0.325825   \n",
       "6244 -0.272779  0.997688  0.021157  ... -0.063344  0.002132  0.324135   \n",
       "6245 -0.269191  0.997853  0.021146  ... -0.071588  0.001920  0.322969   \n",
       "\n",
       "           y32       z32       v32       x33       y33       z33       v33  \n",
       "0     0.660746 -0.384417  0.996053 -0.122886  0.699967 -0.368827  0.994110  \n",
       "1     0.643692 -0.383286  0.995981 -0.125977  0.659915 -0.368469  0.993931  \n",
       "2     0.632823 -0.384510  0.995890 -0.126485  0.646659 -0.373699  0.993666  \n",
       "3     0.635299 -0.370575  0.995757 -0.127345  0.649464 -0.374567  0.993527  \n",
       "4     0.634647 -0.370522  0.995655 -0.127405  0.644297 -0.374488  0.993341  \n",
       "...        ...       ...       ...       ...       ...       ...       ...  \n",
       "6241  0.019243 -0.222952  0.001570 -0.017002 -0.211147 -0.416658  0.001842  \n",
       "6242  0.040433 -0.222015  0.001416 -0.015708 -0.197609 -0.423812  0.001660  \n",
       "6243 -0.002948 -0.218240  0.001276 -0.013637 -0.229144 -0.428026  0.001496  \n",
       "6244 -0.013504 -0.255962  0.001151 -0.014629 -0.220796 -0.448038  0.001347  \n",
       "6245 -0.005592 -0.269303  0.001039 -0.015451 -0.211065 -0.455017  0.001215  \n",
       "\n",
       "[722 rows x 133 columns]"
      ]
     },
     "execution_count": 71,
     "metadata": {},
     "output_type": "execute_result"
    }
   ],
   "source": [
    "df[df['class']=='1']"
   ]
  },
  {
   "cell_type": "code",
   "execution_count": 72,
   "id": "504e6cac",
   "metadata": {},
   "outputs": [
    {
     "name": "stdout",
     "output_type": "stream",
     "text": [
      "<class 'pandas.core.frame.DataFrame'>\n",
      "RangeIndex: 6345 entries, 0 to 6344\n",
      "Columns: 133 entries, class to v33\n",
      "dtypes: float64(132), object(1)\n",
      "memory usage: 6.4+ MB\n"
     ]
    }
   ],
   "source": [
    "df.info()"
   ]
  },
  {
   "cell_type": "code",
   "execution_count": 73,
   "id": "06c96b0b",
   "metadata": {},
   "outputs": [],
   "source": [
    "X = df.drop('class', axis=1) # features: 동작 이름을 제외한 모든 항목\n",
    "y = df['class'] # target value"
   ]
  },
  {
   "cell_type": "code",
   "execution_count": 74,
   "id": "26595f63",
   "metadata": {},
   "outputs": [],
   "source": [
    "X_train, X_test, y_train, y_test = train_test_split(X, y, test_size=0.3, random_state=1234)"
   ]
  },
  {
   "cell_type": "code",
   "execution_count": 75,
   "id": "f7e6d1a4",
   "metadata": {},
   "outputs": [
    {
     "data": {
      "text/plain": [
       "4689      2\n",
       "3376    6_1\n",
       "1126    3_1\n",
       "2287    5_1\n",
       "1325    3_1\n",
       "       ... \n",
       "257       1\n",
       "623       2\n",
       "2949    5_2\n",
       "60        1\n",
       "1490    3_2\n",
       "Name: class, Length: 1904, dtype: object"
      ]
     },
     "execution_count": 75,
     "metadata": {},
     "output_type": "execute_result"
    }
   ],
   "source": [
    "y_test"
   ]
  },
  {
   "cell_type": "code",
   "execution_count": 76,
   "id": "280f5496",
   "metadata": {},
   "outputs": [],
   "source": [
    "pipelines = {\n",
    "    'lr':make_pipeline(StandardScaler(), LogisticRegression(max_iter=1000)),\n",
    "    'rc':make_pipeline(StandardScaler(), RidgeClassifier()),\n",
    "    'rf':make_pipeline(StandardScaler(), RandomForestClassifier()),\n",
    "    'gb':make_pipeline(StandardScaler(), GradientBoostingClassifier()),\n",
    "}"
   ]
  },
  {
   "cell_type": "code",
   "execution_count": 77,
   "id": "7ebb469b",
   "metadata": {},
   "outputs": [],
   "source": [
    "fit_models = {}\n",
    "for algo, pipeline in pipelines.items():\n",
    "    model = pipeline.fit(X_train, y_train)\n",
    "    fit_models[algo] = model"
   ]
  },
  {
   "cell_type": "code",
   "execution_count": 78,
   "id": "e3b9f9b3",
   "metadata": {},
   "outputs": [
    {
     "data": {
      "text/plain": [
       "{'lr': Pipeline(steps=[('standardscaler', StandardScaler()),\n",
       "                 ('logisticregression', LogisticRegression(max_iter=1000))]),\n",
       " 'rc': Pipeline(steps=[('standardscaler', StandardScaler()),\n",
       "                 ('ridgeclassifier', RidgeClassifier())]),\n",
       " 'rf': Pipeline(steps=[('standardscaler', StandardScaler()),\n",
       "                 ('randomforestclassifier', RandomForestClassifier())]),\n",
       " 'gb': Pipeline(steps=[('standardscaler', StandardScaler()),\n",
       "                 ('gradientboostingclassifier', GradientBoostingClassifier())])}"
      ]
     },
     "execution_count": 78,
     "metadata": {},
     "output_type": "execute_result"
    }
   ],
   "source": [
    "fit_models"
   ]
  },
  {
   "cell_type": "code",
   "execution_count": 79,
   "id": "12e1dc24",
   "metadata": {},
   "outputs": [
    {
     "data": {
      "text/plain": [
       "array(['2', '6_1', '3_1', ..., '5_2', '1', '3_2'], dtype=object)"
      ]
     },
     "execution_count": 79,
     "metadata": {},
     "output_type": "execute_result"
    }
   ],
   "source": [
    "fit_models['lr'].predict(X_test)"
   ]
  },
  {
   "cell_type": "markdown",
   "id": "5d1c8e0e",
   "metadata": {},
   "source": [
    "## Evaluating the Models"
   ]
  },
  {
   "cell_type": "code",
   "execution_count": 80,
   "id": "4c887aa9",
   "metadata": {},
   "outputs": [],
   "source": [
    "from sklearn.metrics import accuracy_score # Accuracy metrics \n",
    "import pickle "
   ]
  },
  {
   "cell_type": "code",
   "execution_count": 81,
   "id": "aba4b3c2",
   "metadata": {
    "scrolled": true
   },
   "outputs": [
    {
     "name": "stdout",
     "output_type": "stream",
     "text": [
      "lr 0.9984243697478992\n",
      "rc 0.9842436974789915\n",
      "rf 0.9994747899159664\n",
      "gb 0.9984243697478992\n"
     ]
    }
   ],
   "source": [
    "for algo, model in fit_models.items():\n",
    "    yhat = model.predict(X_test)\n",
    "    print(algo, accuracy_score(y_test, yhat))"
   ]
  },
  {
   "cell_type": "code",
   "execution_count": 66,
   "id": "fb0e5762",
   "metadata": {},
   "outputs": [
    {
     "data": {
      "text/plain": [
       "419       1\n",
       "2417    4_2\n",
       "368       1\n",
       "2191    4_2\n",
       "5200      2\n",
       "       ... \n",
       "726       2\n",
       "698       2\n",
       "2645    3_2\n",
       "646       2\n",
       "5261      2\n",
       "Name: class, Length: 1666, dtype: object"
      ]
     },
     "execution_count": 66,
     "metadata": {},
     "output_type": "execute_result"
    }
   ],
   "source": [
    "y_test"
   ]
  },
  {
   "cell_type": "code",
   "execution_count": 67,
   "id": "e8018a5c",
   "metadata": {},
   "outputs": [],
   "source": [
    "with open('waist2.pkl', 'wb') as f:\n",
    "    pickle.dump(fit_models['rf'], f)"
   ]
  },
  {
   "cell_type": "code",
   "execution_count": 68,
   "id": "2566b63c",
   "metadata": {},
   "outputs": [],
   "source": [
    "from sklearn.metrics import confusion_matrix, plot_confusion_matrix\n",
    "import matplotlib.pyplot as plt"
   ]
  },
  {
   "cell_type": "code",
   "execution_count": 69,
   "id": "268971ed",
   "metadata": {},
   "outputs": [
    {
     "data": {
      "text/plain": [
       "Text(0.5, 1.0, 'Confusion Matrix')"
      ]
     },
     "execution_count": 69,
     "metadata": {},
     "output_type": "execute_result"
    },
    {
     "data": {
      "image/png": "[encoded data removed]",
      "text/plain": [
       "<Figure size 432x288 with 2 Axes>"
      ]
     },
     "metadata": {
      "needs_background": "light"
     },
     "output_type": "display_data"
    }
   ],
   "source": [
    "label=['1','2','3_1','3_2','4_1','4_2'] #waist\n",
    "# label=['1','2','3_1','3_2','4','5_1','5_2','6_1','6_2','6_3'] # legs라벨 설정\n",
    "plot = plot_confusion_matrix(fit_models['rf'], # 분류 모델\n",
    "                             X_test, y_test, # 예측 데이터와 예측값의 정답(y_true)\n",
    "                             display_labels=label, # 표에 표시할 labels\n",
    "                             cmap=plt.cm.Blues, # 컬러맵(plt.cm.Reds, plt.cm.rainbow 등이 있음)\n",
    "                             normalize=None) # 'true', 'pred', 'all' 중에서 지정 가능. default=None\n",
    "plot.ax_.set_title('Confusion Matrix')"
   ]
  },
  {
   "cell_type": "code",
   "execution_count": null,
   "id": "677aecde",
   "metadata": {},
   "outputs": [],
   "source": []
  }
 ],
 "metadata": {
  "kernelspec": {
   "display_name": "Python 3 (ipykernel)",
   "language": "python",
   "name": "python3"
  },
  "language_info": {
   "codemirror_mode": {
    "name": "ipython",
    "version": 3
   },
   "file_extension": ".py",
   "mimetype": "text/x-python",
   "name": "python",
   "nbconvert_exporter": "python",
   "pygments_lexer": "ipython3",
   "version": "3.9.7"
  }
 },
 "nbformat": 4,
 "nbformat_minor": 5
}
