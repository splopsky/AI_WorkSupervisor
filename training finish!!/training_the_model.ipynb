{
 "cells": [
  {
   "cell_type": "code",
   "execution_count": 1,
   "id": "963eaff3",
   "metadata": {},
   "outputs": [],
   "source": [
    "import pandas as pd\n",
    "from sklearn.model_selection import train_test_split\n",
    "from sklearn.pipeline import make_pipeline \n",
    "from sklearn.preprocessing import StandardScaler \n",
    "\n",
    "from sklearn.linear_model import LogisticRegression, RidgeClassifier\n",
    "from sklearn.ensemble import RandomForestClassifier, GradientBoostingClassifier"
   ]
  },
  {
   "cell_type": "code",
   "execution_count": 2,
   "id": "5e34d9f7",
   "metadata": {},
   "outputs": [],
   "source": [
    "df = pd.read_csv('waist2.csv')"
   ]
  },
  {
   "cell_type": "code",
   "execution_count": 3,
   "id": "7f158e79",
   "metadata": {
    "scrolled": true
   },
   "outputs": [
    {
     "data": {
      "text/html": [
       "<div>\n",
       "<style scoped>\n",
       "    .dataframe tbody tr th:only-of-type {\n",
       "        vertical-align: middle;\n",
       "    }\n",
       "\n",
       "    .dataframe tbody tr th {\n",
       "        vertical-align: top;\n",
       "    }\n",
       "\n",
       "    .dataframe thead th {\n",
       "        text-align: right;\n",
       "    }\n",
       "</style>\n",
       "<table border=\"1\" class=\"dataframe\">\n",
       "  <thead>\n",
       "    <tr style=\"text-align: right;\">\n",
       "      <th></th>\n",
       "      <th>class</th>\n",
       "      <th>x1</th>\n",
       "      <th>y1</th>\n",
       "      <th>z1</th>\n",
       "      <th>v1</th>\n",
       "      <th>x2</th>\n",
       "      <th>y2</th>\n",
       "      <th>z2</th>\n",
       "      <th>v2</th>\n",
       "      <th>x3</th>\n",
       "      <th>...</th>\n",
       "      <th>z31</th>\n",
       "      <th>v31</th>\n",
       "      <th>x32</th>\n",
       "      <th>y32</th>\n",
       "      <th>z32</th>\n",
       "      <th>v32</th>\n",
       "      <th>x33</th>\n",
       "      <th>y33</th>\n",
       "      <th>z33</th>\n",
       "      <th>v33</th>\n",
       "    </tr>\n",
       "  </thead>\n",
       "  <tbody>\n",
       "    <tr>\n",
       "      <th>0</th>\n",
       "      <td>1</td>\n",
       "      <td>0.066604</td>\n",
       "      <td>-0.610972</td>\n",
       "      <td>-0.070393</td>\n",
       "      <td>0.999993</td>\n",
       "      <td>0.074290</td>\n",
       "      <td>-0.647736</td>\n",
       "      <td>-0.053091</td>\n",
       "      <td>0.999988</td>\n",
       "      <td>0.074814</td>\n",
       "      <td>...</td>\n",
       "      <td>0.079698</td>\n",
       "      <td>0.857567</td>\n",
       "      <td>0.137578</td>\n",
       "      <td>0.879945</td>\n",
       "      <td>-0.034886</td>\n",
       "      <td>0.984467</td>\n",
       "      <td>-0.172981</td>\n",
       "      <td>0.852699</td>\n",
       "      <td>-0.041728</td>\n",
       "      <td>0.981283</td>\n",
       "    </tr>\n",
       "    <tr>\n",
       "      <th>1</th>\n",
       "      <td>1</td>\n",
       "      <td>0.064863</td>\n",
       "      <td>-0.611199</td>\n",
       "      <td>-0.069464</td>\n",
       "      <td>0.999993</td>\n",
       "      <td>0.072579</td>\n",
       "      <td>-0.648095</td>\n",
       "      <td>-0.052577</td>\n",
       "      <td>0.999987</td>\n",
       "      <td>0.073104</td>\n",
       "      <td>...</td>\n",
       "      <td>0.098646</td>\n",
       "      <td>0.857009</td>\n",
       "      <td>0.134091</td>\n",
       "      <td>0.879993</td>\n",
       "      <td>-0.024808</td>\n",
       "      <td>0.984617</td>\n",
       "      <td>-0.173112</td>\n",
       "      <td>0.852283</td>\n",
       "      <td>-0.024418</td>\n",
       "      <td>0.981379</td>\n",
       "    </tr>\n",
       "    <tr>\n",
       "      <th>2</th>\n",
       "      <td>1</td>\n",
       "      <td>0.066107</td>\n",
       "      <td>-0.612227</td>\n",
       "      <td>-0.124284</td>\n",
       "      <td>0.999992</td>\n",
       "      <td>0.074591</td>\n",
       "      <td>-0.648504</td>\n",
       "      <td>-0.101952</td>\n",
       "      <td>0.999985</td>\n",
       "      <td>0.075187</td>\n",
       "      <td>...</td>\n",
       "      <td>0.090422</td>\n",
       "      <td>0.855941</td>\n",
       "      <td>0.171813</td>\n",
       "      <td>0.884434</td>\n",
       "      <td>-0.053206</td>\n",
       "      <td>0.985214</td>\n",
       "      <td>-0.100698</td>\n",
       "      <td>0.860351</td>\n",
       "      <td>-0.032698</td>\n",
       "      <td>0.981697</td>\n",
       "    </tr>\n",
       "    <tr>\n",
       "      <th>3</th>\n",
       "      <td>1</td>\n",
       "      <td>0.053029</td>\n",
       "      <td>-0.620686</td>\n",
       "      <td>-0.149877</td>\n",
       "      <td>0.999992</td>\n",
       "      <td>0.060047</td>\n",
       "      <td>-0.656319</td>\n",
       "      <td>-0.128942</td>\n",
       "      <td>0.999985</td>\n",
       "      <td>0.060594</td>\n",
       "      <td>...</td>\n",
       "      <td>0.093820</td>\n",
       "      <td>0.860824</td>\n",
       "      <td>0.202004</td>\n",
       "      <td>0.880988</td>\n",
       "      <td>-0.053502</td>\n",
       "      <td>0.985915</td>\n",
       "      <td>-0.078328</td>\n",
       "      <td>0.860769</td>\n",
       "      <td>-0.026552</td>\n",
       "      <td>0.982476</td>\n",
       "    </tr>\n",
       "    <tr>\n",
       "      <th>4</th>\n",
       "      <td>1</td>\n",
       "      <td>0.046339</td>\n",
       "      <td>-0.633035</td>\n",
       "      <td>-0.177780</td>\n",
       "      <td>0.999992</td>\n",
       "      <td>0.053611</td>\n",
       "      <td>-0.667646</td>\n",
       "      <td>-0.156301</td>\n",
       "      <td>0.999982</td>\n",
       "      <td>0.054099</td>\n",
       "      <td>...</td>\n",
       "      <td>0.099181</td>\n",
       "      <td>0.861905</td>\n",
       "      <td>0.197976</td>\n",
       "      <td>0.877871</td>\n",
       "      <td>-0.052707</td>\n",
       "      <td>0.986177</td>\n",
       "      <td>-0.068037</td>\n",
       "      <td>0.860547</td>\n",
       "      <td>-0.022020</td>\n",
       "      <td>0.982828</td>\n",
       "    </tr>\n",
       "    <tr>\n",
       "      <th>...</th>\n",
       "      <td>...</td>\n",
       "      <td>...</td>\n",
       "      <td>...</td>\n",
       "      <td>...</td>\n",
       "      <td>...</td>\n",
       "      <td>...</td>\n",
       "      <td>...</td>\n",
       "      <td>...</td>\n",
       "      <td>...</td>\n",
       "      <td>...</td>\n",
       "      <td>...</td>\n",
       "      <td>...</td>\n",
       "      <td>...</td>\n",
       "      <td>...</td>\n",
       "      <td>...</td>\n",
       "      <td>...</td>\n",
       "      <td>...</td>\n",
       "      <td>...</td>\n",
       "      <td>...</td>\n",
       "      <td>...</td>\n",
       "      <td>...</td>\n",
       "    </tr>\n",
       "    <tr>\n",
       "      <th>4376</th>\n",
       "      <td>1</td>\n",
       "      <td>0.025726</td>\n",
       "      <td>-0.628513</td>\n",
       "      <td>-0.202384</td>\n",
       "      <td>0.996713</td>\n",
       "      <td>0.031466</td>\n",
       "      <td>-0.665055</td>\n",
       "      <td>-0.189786</td>\n",
       "      <td>0.995621</td>\n",
       "      <td>0.031792</td>\n",
       "      <td>...</td>\n",
       "      <td>0.214209</td>\n",
       "      <td>0.186882</td>\n",
       "      <td>0.166473</td>\n",
       "      <td>0.770723</td>\n",
       "      <td>0.101361</td>\n",
       "      <td>0.237670</td>\n",
       "      <td>-0.055653</td>\n",
       "      <td>0.773393</td>\n",
       "      <td>0.100705</td>\n",
       "      <td>0.241158</td>\n",
       "    </tr>\n",
       "    <tr>\n",
       "      <th>4377</th>\n",
       "      <td>1</td>\n",
       "      <td>0.021272</td>\n",
       "      <td>-0.627849</td>\n",
       "      <td>-0.190114</td>\n",
       "      <td>0.996273</td>\n",
       "      <td>0.027633</td>\n",
       "      <td>-0.664400</td>\n",
       "      <td>-0.180042</td>\n",
       "      <td>0.994989</td>\n",
       "      <td>0.027951</td>\n",
       "      <td>...</td>\n",
       "      <td>0.203731</td>\n",
       "      <td>0.180168</td>\n",
       "      <td>0.166299</td>\n",
       "      <td>0.771452</td>\n",
       "      <td>0.102905</td>\n",
       "      <td>0.227618</td>\n",
       "      <td>-0.055054</td>\n",
       "      <td>0.773475</td>\n",
       "      <td>0.089045</td>\n",
       "      <td>0.231819</td>\n",
       "    </tr>\n",
       "    <tr>\n",
       "      <th>4378</th>\n",
       "      <td>1</td>\n",
       "      <td>0.018234</td>\n",
       "      <td>-0.629490</td>\n",
       "      <td>-0.186022</td>\n",
       "      <td>0.995743</td>\n",
       "      <td>0.024862</td>\n",
       "      <td>-0.665939</td>\n",
       "      <td>-0.176457</td>\n",
       "      <td>0.994232</td>\n",
       "      <td>0.025172</td>\n",
       "      <td>...</td>\n",
       "      <td>0.198958</td>\n",
       "      <td>0.174715</td>\n",
       "      <td>0.166138</td>\n",
       "      <td>0.771724</td>\n",
       "      <td>0.103212</td>\n",
       "      <td>0.219422</td>\n",
       "      <td>-0.055503</td>\n",
       "      <td>0.775128</td>\n",
       "      <td>0.083750</td>\n",
       "      <td>0.224370</td>\n",
       "    </tr>\n",
       "    <tr>\n",
       "      <th>4379</th>\n",
       "      <td>1</td>\n",
       "      <td>0.011300</td>\n",
       "      <td>-0.632021</td>\n",
       "      <td>-0.187423</td>\n",
       "      <td>0.995570</td>\n",
       "      <td>0.017903</td>\n",
       "      <td>-0.668403</td>\n",
       "      <td>-0.177576</td>\n",
       "      <td>0.993982</td>\n",
       "      <td>0.018243</td>\n",
       "      <td>...</td>\n",
       "      <td>0.201535</td>\n",
       "      <td>0.170292</td>\n",
       "      <td>0.168067</td>\n",
       "      <td>0.771979</td>\n",
       "      <td>0.100417</td>\n",
       "      <td>0.214321</td>\n",
       "      <td>-0.058427</td>\n",
       "      <td>0.775379</td>\n",
       "      <td>0.086886</td>\n",
       "      <td>0.219152</td>\n",
       "    </tr>\n",
       "    <tr>\n",
       "      <th>4380</th>\n",
       "      <td>1</td>\n",
       "      <td>0.011392</td>\n",
       "      <td>-0.631611</td>\n",
       "      <td>-0.178680</td>\n",
       "      <td>0.995092</td>\n",
       "      <td>0.017854</td>\n",
       "      <td>-0.668000</td>\n",
       "      <td>-0.169262</td>\n",
       "      <td>0.993240</td>\n",
       "      <td>0.018208</td>\n",
       "      <td>...</td>\n",
       "      <td>0.198045</td>\n",
       "      <td>0.163610</td>\n",
       "      <td>0.166662</td>\n",
       "      <td>0.771530</td>\n",
       "      <td>0.099031</td>\n",
       "      <td>0.204381</td>\n",
       "      <td>-0.057547</td>\n",
       "      <td>0.773967</td>\n",
       "      <td>0.085641</td>\n",
       "      <td>0.209865</td>\n",
       "    </tr>\n",
       "  </tbody>\n",
       "</table>\n",
       "<p>547 rows × 133 columns</p>\n",
       "</div>"
      ],
      "text/plain": [
       "     class        x1        y1        z1        v1        x2        y2  \\\n",
       "0        1  0.066604 -0.610972 -0.070393  0.999993  0.074290 -0.647736   \n",
       "1        1  0.064863 -0.611199 -0.069464  0.999993  0.072579 -0.648095   \n",
       "2        1  0.066107 -0.612227 -0.124284  0.999992  0.074591 -0.648504   \n",
       "3        1  0.053029 -0.620686 -0.149877  0.999992  0.060047 -0.656319   \n",
       "4        1  0.046339 -0.633035 -0.177780  0.999992  0.053611 -0.667646   \n",
       "...    ...       ...       ...       ...       ...       ...       ...   \n",
       "4376     1  0.025726 -0.628513 -0.202384  0.996713  0.031466 -0.665055   \n",
       "4377     1  0.021272 -0.627849 -0.190114  0.996273  0.027633 -0.664400   \n",
       "4378     1  0.018234 -0.629490 -0.186022  0.995743  0.024862 -0.665939   \n",
       "4379     1  0.011300 -0.632021 -0.187423  0.995570  0.017903 -0.668403   \n",
       "4380     1  0.011392 -0.631611 -0.178680  0.995092  0.017854 -0.668000   \n",
       "\n",
       "            z2        v2        x3  ...       z31       v31       x32  \\\n",
       "0    -0.053091  0.999988  0.074814  ...  0.079698  0.857567  0.137578   \n",
       "1    -0.052577  0.999987  0.073104  ...  0.098646  0.857009  0.134091   \n",
       "2    -0.101952  0.999985  0.075187  ...  0.090422  0.855941  0.171813   \n",
       "3    -0.128942  0.999985  0.060594  ...  0.093820  0.860824  0.202004   \n",
       "4    -0.156301  0.999982  0.054099  ...  0.099181  0.861905  0.197976   \n",
       "...        ...       ...       ...  ...       ...       ...       ...   \n",
       "4376 -0.189786  0.995621  0.031792  ...  0.214209  0.186882  0.166473   \n",
       "4377 -0.180042  0.994989  0.027951  ...  0.203731  0.180168  0.166299   \n",
       "4378 -0.176457  0.994232  0.025172  ...  0.198958  0.174715  0.166138   \n",
       "4379 -0.177576  0.993982  0.018243  ...  0.201535  0.170292  0.168067   \n",
       "4380 -0.169262  0.993240  0.018208  ...  0.198045  0.163610  0.166662   \n",
       "\n",
       "           y32       z32       v32       x33       y33       z33       v33  \n",
       "0     0.879945 -0.034886  0.984467 -0.172981  0.852699 -0.041728  0.981283  \n",
       "1     0.879993 -0.024808  0.984617 -0.173112  0.852283 -0.024418  0.981379  \n",
       "2     0.884434 -0.053206  0.985214 -0.100698  0.860351 -0.032698  0.981697  \n",
       "3     0.880988 -0.053502  0.985915 -0.078328  0.860769 -0.026552  0.982476  \n",
       "4     0.877871 -0.052707  0.986177 -0.068037  0.860547 -0.022020  0.982828  \n",
       "...        ...       ...       ...       ...       ...       ...       ...  \n",
       "4376  0.770723  0.101361  0.237670 -0.055653  0.773393  0.100705  0.241158  \n",
       "4377  0.771452  0.102905  0.227618 -0.055054  0.773475  0.089045  0.231819  \n",
       "4378  0.771724  0.103212  0.219422 -0.055503  0.775128  0.083750  0.224370  \n",
       "4379  0.771979  0.100417  0.214321 -0.058427  0.775379  0.086886  0.219152  \n",
       "4380  0.771530  0.099031  0.204381 -0.057547  0.773967  0.085641  0.209865  \n",
       "\n",
       "[547 rows x 133 columns]"
      ]
     },
     "execution_count": 3,
     "metadata": {},
     "output_type": "execute_result"
    }
   ],
   "source": [
    "df[df['class']=='1']"
   ]
  },
  {
   "cell_type": "code",
   "execution_count": 4,
   "id": "504e6cac",
   "metadata": {},
   "outputs": [
    {
     "name": "stdout",
     "output_type": "stream",
     "text": [
      "<class 'pandas.core.frame.DataFrame'>\n",
      "RangeIndex: 5245 entries, 0 to 5244\n",
      "Columns: 133 entries, class to v33\n",
      "dtypes: float64(132), object(1)\n",
      "memory usage: 5.3+ MB\n"
     ]
    }
   ],
   "source": [
    "df.info()"
   ]
  },
  {
   "cell_type": "code",
   "execution_count": 5,
   "id": "06c96b0b",
   "metadata": {},
   "outputs": [],
   "source": [
    "X = df.drop('class', axis=1) # features: 동작 이름을 제외한 모든 항목\n",
    "y = df['class'] # target value"
   ]
  },
  {
   "cell_type": "code",
   "execution_count": 6,
   "id": "26595f63",
   "metadata": {},
   "outputs": [],
   "source": [
    "X_train, X_test, y_train, y_test = train_test_split(X, y, test_size=0.3, random_state=1234)"
   ]
  },
  {
   "cell_type": "code",
   "execution_count": 7,
   "id": "f7e6d1a4",
   "metadata": {},
   "outputs": [
    {
     "data": {
      "text/plain": [
       "2478    3_1\n",
       "3706    4_2\n",
       "1736    3_2\n",
       "564       2\n",
       "362       1\n",
       "       ... \n",
       "4281      1\n",
       "1749    4_1\n",
       "935     3_1\n",
       "59        1\n",
       "4826    3_2\n",
       "Name: class, Length: 1574, dtype: object"
      ]
     },
     "execution_count": 7,
     "metadata": {},
     "output_type": "execute_result"
    }
   ],
   "source": [
    "y_test"
   ]
  },
  {
   "cell_type": "code",
   "execution_count": 8,
   "id": "280f5496",
   "metadata": {},
   "outputs": [],
   "source": [
    "pipelines = {\n",
    "    'lr':make_pipeline(StandardScaler(), LogisticRegression(max_iter=1000)),\n",
    "    'rc':make_pipeline(StandardScaler(), RidgeClassifier()),\n",
    "    'rf':make_pipeline(StandardScaler(), RandomForestClassifier()),\n",
    "    'gb':make_pipeline(StandardScaler(), GradientBoostingClassifier()),\n",
    "}"
   ]
  },
  {
   "cell_type": "code",
   "execution_count": 9,
   "id": "7ebb469b",
   "metadata": {},
   "outputs": [],
   "source": [
    "fit_models = {}\n",
    "for algo, pipeline in pipelines.items():\n",
    "    model = pipeline.fit(X_train, y_train)\n",
    "    fit_models[algo] = model"
   ]
  },
  {
   "cell_type": "code",
   "execution_count": 10,
   "id": "e3b9f9b3",
   "metadata": {},
   "outputs": [
    {
     "data": {
      "text/plain": [
       "{'lr': Pipeline(steps=[('standardscaler', StandardScaler()),\n",
       "                 ('logisticregression', LogisticRegression(max_iter=1000))]),\n",
       " 'rc': Pipeline(steps=[('standardscaler', StandardScaler()),\n",
       "                 ('ridgeclassifier', RidgeClassifier())]),\n",
       " 'rf': Pipeline(steps=[('standardscaler', StandardScaler()),\n",
       "                 ('randomforestclassifier', RandomForestClassifier())]),\n",
       " 'gb': Pipeline(steps=[('standardscaler', StandardScaler()),\n",
       "                 ('gradientboostingclassifier', GradientBoostingClassifier())])}"
      ]
     },
     "execution_count": 10,
     "metadata": {},
     "output_type": "execute_result"
    }
   ],
   "source": [
    "fit_models"
   ]
  },
  {
   "cell_type": "code",
   "execution_count": 11,
   "id": "12e1dc24",
   "metadata": {},
   "outputs": [
    {
     "data": {
      "text/plain": [
       "array(['3_1', '4_2', '3_2', ..., '3_1', '1', '3_2'], dtype=object)"
      ]
     },
     "execution_count": 11,
     "metadata": {},
     "output_type": "execute_result"
    }
   ],
   "source": [
    "fit_models['lr'].predict(X_test)"
   ]
  },
  {
   "cell_type": "markdown",
   "id": "5d1c8e0e",
   "metadata": {},
   "source": [
    "## Evaluating the Models"
   ]
  },
  {
   "cell_type": "code",
   "execution_count": 12,
   "id": "4c887aa9",
   "metadata": {},
   "outputs": [],
   "source": [
    "from sklearn.metrics import accuracy_score # Accuracy metrics \n",
    "import pickle "
   ]
  },
  {
   "cell_type": "code",
   "execution_count": 13,
   "id": "aba4b3c2",
   "metadata": {
    "scrolled": true
   },
   "outputs": [
    {
     "name": "stdout",
     "output_type": "stream",
     "text": [
      "lr 0.9980940279542567\n",
      "rc 0.9898348157560356\n",
      "rf 0.9993646759847522\n",
      "gb 0.9987293519695044\n"
     ]
    }
   ],
   "source": [
    "for algo, model in fit_models.items():\n",
    "    yhat = model.predict(X_test)\n",
    "    print(algo, accuracy_score(y_test, yhat))"
   ]
  },
  {
   "cell_type": "code",
   "execution_count": 14,
   "id": "fb0e5762",
   "metadata": {},
   "outputs": [
    {
     "data": {
      "text/plain": [
       "2478    3_1\n",
       "3706    4_2\n",
       "1736    3_2\n",
       "564       2\n",
       "362       1\n",
       "       ... \n",
       "4281      1\n",
       "1749    4_1\n",
       "935     3_1\n",
       "59        1\n",
       "4826    3_2\n",
       "Name: class, Length: 1574, dtype: object"
      ]
     },
     "execution_count": 14,
     "metadata": {},
     "output_type": "execute_result"
    }
   ],
   "source": [
    "y_test"
   ]
  },
  {
   "cell_type": "code",
   "execution_count": 15,
   "id": "e8018a5c",
   "metadata": {},
   "outputs": [],
   "source": [
    "with open('waist2.pkl', 'wb') as f:\n",
    "    pickle.dump(fit_models['rf'], f)"
   ]
  },
  {
   "cell_type": "code",
   "execution_count": 16,
   "id": "2566b63c",
   "metadata": {},
   "outputs": [],
   "source": [
    "from sklearn.metrics import confusion_matrix, plot_confusion_matrix\n",
    "import matplotlib.pyplot as plt"
   ]
  },
  {
   "cell_type": "code",
   "execution_count": 17,
   "id": "268971ed",
   "metadata": {},
   "outputs": [
    {
     "data": {
      "text/plain": [
       "Text(0.5, 1.0, 'Confusion Matrix')"
      ]
     },
     "execution_count": 17,
     "metadata": {},
     "output_type": "execute_result"
    },
    {
     "data": {
      "image/png": "[encoded data removed]",
      "text/plain": [
       "<Figure size 432x288 with 2 Axes>"
      ]
     },
     "metadata": {
      "needs_background": "light"
     },
     "output_type": "display_data"
    }
   ],
   "source": [
    "label=['1','2','3_1','3_2','4_1','4_2'] #waist\n",
    "# label=['1','2','3_1','3_2','4','5_1','5_2','6_1','6_2','6_3'] # legs라벨 설정\n",
    "plot = plot_confusion_matrix(fit_models['rf'], # 분류 모델\n",
    "                             X_test, y_test, # 예측 데이터와 예측값의 정답(y_true)\n",
    "                             display_labels=label, # 표에 표시할 labels\n",
    "                             cmap=plt.cm.Blues, # 컬러맵(plt.cm.Reds, plt.cm.rainbow 등이 있음)\n",
    "                             normalize=None) # 'true', 'pred', 'all' 중에서 지정 가능. default=None\n",
    "plot.ax_.set_title('Confusion Matrix')"
   ]
  },
  {
   "cell_type": "code",
   "execution_count": null,
   "id": "05b8d017",
   "metadata": {},
   "outputs": [],
   "source": []
  }
 ],
 "metadata": {
  "kernelspec": {
   "display_name": "Python 3 (ipykernel)",
   "language": "python",
   "name": "python3"
  },
  "language_info": {
   "codemirror_mode": {
    "name": "ipython",
    "version": 3
   },
   "file_extension": ".py",
   "mimetype": "text/x-python",
   "name": "python",
   "nbconvert_exporter": "python",
   "pygments_lexer": "ipython3",
   "version": "3.9.7"
  }
 },
 "nbformat": 4,
 "nbformat_minor": 5
}
