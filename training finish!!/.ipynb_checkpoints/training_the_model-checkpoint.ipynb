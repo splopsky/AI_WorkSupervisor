{
 "cells": [
  {
   "cell_type": "code",
   "execution_count": 115,
   "id": "963eaff3",
   "metadata": {},
   "outputs": [],
   "source": [
    "import pandas as pd\n",
    "from sklearn.model_selection import train_test_split\n",
    "from sklearn.pipeline import make_pipeline \n",
    "from sklearn.preprocessing import StandardScaler \n",
    "\n",
    "from sklearn.linear_model import LogisticRegression, RidgeClassifier\n",
    "from sklearn.ensemble import RandomForestClassifier, GradientBoostingClassifier"
   ]
  },
  {
   "cell_type": "code",
   "execution_count": 116,
   "id": "5e34d9f7",
   "metadata": {},
   "outputs": [],
   "source": [
    "df = pd.read_csv('waist2.csv')"
   ]
  },
  {
   "cell_type": "code",
   "execution_count": 117,
   "id": "7f158e79",
   "metadata": {
    "scrolled": true
   },
   "outputs": [
    {
     "data": {
      "text/html": [
       "<div>\n",
       "<style scoped>\n",
       "    .dataframe tbody tr th:only-of-type {\n",
       "        vertical-align: middle;\n",
       "    }\n",
       "\n",
       "    .dataframe tbody tr th {\n",
       "        vertical-align: top;\n",
       "    }\n",
       "\n",
       "    .dataframe thead th {\n",
       "        text-align: right;\n",
       "    }\n",
       "</style>\n",
       "<table border=\"1\" class=\"dataframe\">\n",
       "  <thead>\n",
       "    <tr style=\"text-align: right;\">\n",
       "      <th></th>\n",
       "      <th>class</th>\n",
       "      <th>x1</th>\n",
       "      <th>y1</th>\n",
       "      <th>z1</th>\n",
       "      <th>v1</th>\n",
       "      <th>x2</th>\n",
       "      <th>y2</th>\n",
       "      <th>z2</th>\n",
       "      <th>v2</th>\n",
       "      <th>x3</th>\n",
       "      <th>...</th>\n",
       "      <th>z31</th>\n",
       "      <th>v31</th>\n",
       "      <th>x32</th>\n",
       "      <th>y32</th>\n",
       "      <th>z32</th>\n",
       "      <th>v32</th>\n",
       "      <th>x33</th>\n",
       "      <th>y33</th>\n",
       "      <th>z33</th>\n",
       "      <th>v33</th>\n",
       "    </tr>\n",
       "  </thead>\n",
       "  <tbody>\n",
       "    <tr>\n",
       "      <th>0</th>\n",
       "      <td>1</td>\n",
       "      <td>0.066604</td>\n",
       "      <td>-0.610972</td>\n",
       "      <td>-0.070393</td>\n",
       "      <td>0.999993</td>\n",
       "      <td>0.074290</td>\n",
       "      <td>-0.647736</td>\n",
       "      <td>-0.053091</td>\n",
       "      <td>0.999988</td>\n",
       "      <td>0.074814</td>\n",
       "      <td>...</td>\n",
       "      <td>0.079698</td>\n",
       "      <td>0.857567</td>\n",
       "      <td>0.137578</td>\n",
       "      <td>0.879945</td>\n",
       "      <td>-0.034886</td>\n",
       "      <td>0.984467</td>\n",
       "      <td>-0.172981</td>\n",
       "      <td>0.852699</td>\n",
       "      <td>-0.041728</td>\n",
       "      <td>0.981283</td>\n",
       "    </tr>\n",
       "    <tr>\n",
       "      <th>1</th>\n",
       "      <td>1</td>\n",
       "      <td>0.064863</td>\n",
       "      <td>-0.611199</td>\n",
       "      <td>-0.069464</td>\n",
       "      <td>0.999993</td>\n",
       "      <td>0.072579</td>\n",
       "      <td>-0.648095</td>\n",
       "      <td>-0.052577</td>\n",
       "      <td>0.999987</td>\n",
       "      <td>0.073104</td>\n",
       "      <td>...</td>\n",
       "      <td>0.098646</td>\n",
       "      <td>0.857009</td>\n",
       "      <td>0.134091</td>\n",
       "      <td>0.879993</td>\n",
       "      <td>-0.024808</td>\n",
       "      <td>0.984617</td>\n",
       "      <td>-0.173112</td>\n",
       "      <td>0.852283</td>\n",
       "      <td>-0.024418</td>\n",
       "      <td>0.981379</td>\n",
       "    </tr>\n",
       "    <tr>\n",
       "      <th>2</th>\n",
       "      <td>1</td>\n",
       "      <td>0.066107</td>\n",
       "      <td>-0.612227</td>\n",
       "      <td>-0.124284</td>\n",
       "      <td>0.999992</td>\n",
       "      <td>0.074591</td>\n",
       "      <td>-0.648504</td>\n",
       "      <td>-0.101952</td>\n",
       "      <td>0.999985</td>\n",
       "      <td>0.075187</td>\n",
       "      <td>...</td>\n",
       "      <td>0.090422</td>\n",
       "      <td>0.855941</td>\n",
       "      <td>0.171813</td>\n",
       "      <td>0.884434</td>\n",
       "      <td>-0.053206</td>\n",
       "      <td>0.985214</td>\n",
       "      <td>-0.100698</td>\n",
       "      <td>0.860351</td>\n",
       "      <td>-0.032698</td>\n",
       "      <td>0.981697</td>\n",
       "    </tr>\n",
       "    <tr>\n",
       "      <th>3</th>\n",
       "      <td>1</td>\n",
       "      <td>0.053029</td>\n",
       "      <td>-0.620686</td>\n",
       "      <td>-0.149877</td>\n",
       "      <td>0.999992</td>\n",
       "      <td>0.060047</td>\n",
       "      <td>-0.656319</td>\n",
       "      <td>-0.128942</td>\n",
       "      <td>0.999985</td>\n",
       "      <td>0.060594</td>\n",
       "      <td>...</td>\n",
       "      <td>0.093820</td>\n",
       "      <td>0.860824</td>\n",
       "      <td>0.202004</td>\n",
       "      <td>0.880988</td>\n",
       "      <td>-0.053502</td>\n",
       "      <td>0.985915</td>\n",
       "      <td>-0.078328</td>\n",
       "      <td>0.860769</td>\n",
       "      <td>-0.026552</td>\n",
       "      <td>0.982476</td>\n",
       "    </tr>\n",
       "    <tr>\n",
       "      <th>4</th>\n",
       "      <td>1</td>\n",
       "      <td>0.046339</td>\n",
       "      <td>-0.633035</td>\n",
       "      <td>-0.177780</td>\n",
       "      <td>0.999992</td>\n",
       "      <td>0.053611</td>\n",
       "      <td>-0.667646</td>\n",
       "      <td>-0.156301</td>\n",
       "      <td>0.999982</td>\n",
       "      <td>0.054099</td>\n",
       "      <td>...</td>\n",
       "      <td>0.099181</td>\n",
       "      <td>0.861905</td>\n",
       "      <td>0.197976</td>\n",
       "      <td>0.877871</td>\n",
       "      <td>-0.052707</td>\n",
       "      <td>0.986177</td>\n",
       "      <td>-0.068037</td>\n",
       "      <td>0.860547</td>\n",
       "      <td>-0.022020</td>\n",
       "      <td>0.982828</td>\n",
       "    </tr>\n",
       "    <tr>\n",
       "      <th>...</th>\n",
       "      <td>...</td>\n",
       "      <td>...</td>\n",
       "      <td>...</td>\n",
       "      <td>...</td>\n",
       "      <td>...</td>\n",
       "      <td>...</td>\n",
       "      <td>...</td>\n",
       "      <td>...</td>\n",
       "      <td>...</td>\n",
       "      <td>...</td>\n",
       "      <td>...</td>\n",
       "      <td>...</td>\n",
       "      <td>...</td>\n",
       "      <td>...</td>\n",
       "      <td>...</td>\n",
       "      <td>...</td>\n",
       "      <td>...</td>\n",
       "      <td>...</td>\n",
       "      <td>...</td>\n",
       "      <td>...</td>\n",
       "      <td>...</td>\n",
       "    </tr>\n",
       "    <tr>\n",
       "      <th>423</th>\n",
       "      <td>1</td>\n",
       "      <td>0.015074</td>\n",
       "      <td>-0.580629</td>\n",
       "      <td>-0.233000</td>\n",
       "      <td>0.999977</td>\n",
       "      <td>0.021382</td>\n",
       "      <td>-0.618885</td>\n",
       "      <td>-0.218420</td>\n",
       "      <td>0.999965</td>\n",
       "      <td>0.021898</td>\n",
       "      <td>...</td>\n",
       "      <td>0.116151</td>\n",
       "      <td>0.802044</td>\n",
       "      <td>0.194709</td>\n",
       "      <td>0.867585</td>\n",
       "      <td>-0.005299</td>\n",
       "      <td>0.983738</td>\n",
       "      <td>-0.020549</td>\n",
       "      <td>0.860884</td>\n",
       "      <td>-0.022931</td>\n",
       "      <td>0.977647</td>\n",
       "    </tr>\n",
       "    <tr>\n",
       "      <th>424</th>\n",
       "      <td>1</td>\n",
       "      <td>0.015546</td>\n",
       "      <td>-0.575304</td>\n",
       "      <td>-0.239311</td>\n",
       "      <td>0.999979</td>\n",
       "      <td>0.021868</td>\n",
       "      <td>-0.613654</td>\n",
       "      <td>-0.224383</td>\n",
       "      <td>0.999968</td>\n",
       "      <td>0.022375</td>\n",
       "      <td>...</td>\n",
       "      <td>0.117238</td>\n",
       "      <td>0.808053</td>\n",
       "      <td>0.202377</td>\n",
       "      <td>0.863159</td>\n",
       "      <td>-0.000235</td>\n",
       "      <td>0.984335</td>\n",
       "      <td>-0.009160</td>\n",
       "      <td>0.860833</td>\n",
       "      <td>-0.022238</td>\n",
       "      <td>0.978465</td>\n",
       "    </tr>\n",
       "    <tr>\n",
       "      <th>425</th>\n",
       "      <td>1</td>\n",
       "      <td>0.013605</td>\n",
       "      <td>-0.573737</td>\n",
       "      <td>-0.237397</td>\n",
       "      <td>0.999980</td>\n",
       "      <td>0.019786</td>\n",
       "      <td>-0.612156</td>\n",
       "      <td>-0.222291</td>\n",
       "      <td>0.999969</td>\n",
       "      <td>0.020279</td>\n",
       "      <td>...</td>\n",
       "      <td>0.127483</td>\n",
       "      <td>0.809922</td>\n",
       "      <td>0.198573</td>\n",
       "      <td>0.863045</td>\n",
       "      <td>0.002409</td>\n",
       "      <td>0.984686</td>\n",
       "      <td>-0.016296</td>\n",
       "      <td>0.857750</td>\n",
       "      <td>-0.012345</td>\n",
       "      <td>0.978861</td>\n",
       "    </tr>\n",
       "    <tr>\n",
       "      <th>426</th>\n",
       "      <td>1</td>\n",
       "      <td>0.013382</td>\n",
       "      <td>-0.574233</td>\n",
       "      <td>-0.209382</td>\n",
       "      <td>0.999980</td>\n",
       "      <td>0.019782</td>\n",
       "      <td>-0.612641</td>\n",
       "      <td>-0.193216</td>\n",
       "      <td>0.999970</td>\n",
       "      <td>0.020266</td>\n",
       "      <td>...</td>\n",
       "      <td>0.127583</td>\n",
       "      <td>0.808779</td>\n",
       "      <td>0.194006</td>\n",
       "      <td>0.864210</td>\n",
       "      <td>0.002383</td>\n",
       "      <td>0.984513</td>\n",
       "      <td>-0.016413</td>\n",
       "      <td>0.857344</td>\n",
       "      <td>-0.012478</td>\n",
       "      <td>0.978795</td>\n",
       "    </tr>\n",
       "    <tr>\n",
       "      <th>427</th>\n",
       "      <td>1</td>\n",
       "      <td>0.011599</td>\n",
       "      <td>-0.574715</td>\n",
       "      <td>-0.210037</td>\n",
       "      <td>0.999981</td>\n",
       "      <td>0.018088</td>\n",
       "      <td>-0.613095</td>\n",
       "      <td>-0.193794</td>\n",
       "      <td>0.999972</td>\n",
       "      <td>0.018569</td>\n",
       "      <td>...</td>\n",
       "      <td>0.128807</td>\n",
       "      <td>0.805752</td>\n",
       "      <td>0.192287</td>\n",
       "      <td>0.864429</td>\n",
       "      <td>0.003602</td>\n",
       "      <td>0.984046</td>\n",
       "      <td>-0.020731</td>\n",
       "      <td>0.856220</td>\n",
       "      <td>-0.012026</td>\n",
       "      <td>0.978373</td>\n",
       "    </tr>\n",
       "  </tbody>\n",
       "</table>\n",
       "<p>428 rows × 133 columns</p>\n",
       "</div>"
      ],
      "text/plain": [
       "    class        x1        y1        z1        v1        x2        y2  \\\n",
       "0       1  0.066604 -0.610972 -0.070393  0.999993  0.074290 -0.647736   \n",
       "1       1  0.064863 -0.611199 -0.069464  0.999993  0.072579 -0.648095   \n",
       "2       1  0.066107 -0.612227 -0.124284  0.999992  0.074591 -0.648504   \n",
       "3       1  0.053029 -0.620686 -0.149877  0.999992  0.060047 -0.656319   \n",
       "4       1  0.046339 -0.633035 -0.177780  0.999992  0.053611 -0.667646   \n",
       "..    ...       ...       ...       ...       ...       ...       ...   \n",
       "423     1  0.015074 -0.580629 -0.233000  0.999977  0.021382 -0.618885   \n",
       "424     1  0.015546 -0.575304 -0.239311  0.999979  0.021868 -0.613654   \n",
       "425     1  0.013605 -0.573737 -0.237397  0.999980  0.019786 -0.612156   \n",
       "426     1  0.013382 -0.574233 -0.209382  0.999980  0.019782 -0.612641   \n",
       "427     1  0.011599 -0.574715 -0.210037  0.999981  0.018088 -0.613095   \n",
       "\n",
       "           z2        v2        x3  ...       z31       v31       x32  \\\n",
       "0   -0.053091  0.999988  0.074814  ...  0.079698  0.857567  0.137578   \n",
       "1   -0.052577  0.999987  0.073104  ...  0.098646  0.857009  0.134091   \n",
       "2   -0.101952  0.999985  0.075187  ...  0.090422  0.855941  0.171813   \n",
       "3   -0.128942  0.999985  0.060594  ...  0.093820  0.860824  0.202004   \n",
       "4   -0.156301  0.999982  0.054099  ...  0.099181  0.861905  0.197976   \n",
       "..        ...       ...       ...  ...       ...       ...       ...   \n",
       "423 -0.218420  0.999965  0.021898  ...  0.116151  0.802044  0.194709   \n",
       "424 -0.224383  0.999968  0.022375  ...  0.117238  0.808053  0.202377   \n",
       "425 -0.222291  0.999969  0.020279  ...  0.127483  0.809922  0.198573   \n",
       "426 -0.193216  0.999970  0.020266  ...  0.127583  0.808779  0.194006   \n",
       "427 -0.193794  0.999972  0.018569  ...  0.128807  0.805752  0.192287   \n",
       "\n",
       "          y32       z32       v32       x33       y33       z33       v33  \n",
       "0    0.879945 -0.034886  0.984467 -0.172981  0.852699 -0.041728  0.981283  \n",
       "1    0.879993 -0.024808  0.984617 -0.173112  0.852283 -0.024418  0.981379  \n",
       "2    0.884434 -0.053206  0.985214 -0.100698  0.860351 -0.032698  0.981697  \n",
       "3    0.880988 -0.053502  0.985915 -0.078328  0.860769 -0.026552  0.982476  \n",
       "4    0.877871 -0.052707  0.986177 -0.068037  0.860547 -0.022020  0.982828  \n",
       "..        ...       ...       ...       ...       ...       ...       ...  \n",
       "423  0.867585 -0.005299  0.983738 -0.020549  0.860884 -0.022931  0.977647  \n",
       "424  0.863159 -0.000235  0.984335 -0.009160  0.860833 -0.022238  0.978465  \n",
       "425  0.863045  0.002409  0.984686 -0.016296  0.857750 -0.012345  0.978861  \n",
       "426  0.864210  0.002383  0.984513 -0.016413  0.857344 -0.012478  0.978795  \n",
       "427  0.864429  0.003602  0.984046 -0.020731  0.856220 -0.012026  0.978373  \n",
       "\n",
       "[428 rows x 133 columns]"
      ]
     },
     "execution_count": 117,
     "metadata": {},
     "output_type": "execute_result"
    }
   ],
   "source": [
    "df[df['class']=='1']"
   ]
  },
  {
   "cell_type": "code",
   "execution_count": 118,
   "id": "504e6cac",
   "metadata": {},
   "outputs": [
    {
     "name": "stdout",
     "output_type": "stream",
     "text": [
      "<class 'pandas.core.frame.DataFrame'>\n",
      "RangeIndex: 4262 entries, 0 to 4261\n",
      "Columns: 133 entries, class to v33\n",
      "dtypes: float64(132), object(1)\n",
      "memory usage: 4.3+ MB\n"
     ]
    }
   ],
   "source": [
    "df.info()"
   ]
  },
  {
   "cell_type": "code",
   "execution_count": 119,
   "id": "06c96b0b",
   "metadata": {},
   "outputs": [],
   "source": [
    "X = df.drop('class', axis=1) # features: 동작 이름을 제외한 모든 항목\n",
    "y = df['class'] # target value"
   ]
  },
  {
   "cell_type": "code",
   "execution_count": 120,
   "id": "26595f63",
   "metadata": {},
   "outputs": [],
   "source": [
    "X_train, X_test, y_train, y_test = train_test_split(X, y, test_size=0.3, random_state=1234)"
   ]
  },
  {
   "cell_type": "code",
   "execution_count": 121,
   "id": "f7e6d1a4",
   "metadata": {},
   "outputs": [
    {
     "data": {
      "text/plain": [
       "3542    4_1\n",
       "3728    4_2\n",
       "3655    4_2\n",
       "4217    4_2\n",
       "1637    3_2\n",
       "       ... \n",
       "1102    3_1\n",
       "1101    3_1\n",
       "3739    4_2\n",
       "2783    3_2\n",
       "2075    4_2\n",
       "Name: class, Length: 1279, dtype: object"
      ]
     },
     "execution_count": 121,
     "metadata": {},
     "output_type": "execute_result"
    }
   ],
   "source": [
    "y_test"
   ]
  },
  {
   "cell_type": "code",
   "execution_count": 122,
   "id": "280f5496",
   "metadata": {},
   "outputs": [],
   "source": [
    "pipelines = {\n",
    "    'lr':make_pipeline(StandardScaler(), LogisticRegression(max_iter=1000)),\n",
    "    'rc':make_pipeline(StandardScaler(), RidgeClassifier()),\n",
    "    'rf':make_pipeline(StandardScaler(), RandomForestClassifier()),\n",
    "    'gb':make_pipeline(StandardScaler(), GradientBoostingClassifier()),\n",
    "}"
   ]
  },
  {
   "cell_type": "code",
   "execution_count": 123,
   "id": "7ebb469b",
   "metadata": {},
   "outputs": [],
   "source": [
    "fit_models = {}\n",
    "for algo, pipeline in pipelines.items():\n",
    "    model = pipeline.fit(X_train, y_train)\n",
    "    fit_models[algo] = model"
   ]
  },
  {
   "cell_type": "code",
   "execution_count": 124,
   "id": "e3b9f9b3",
   "metadata": {},
   "outputs": [
    {
     "data": {
      "text/plain": [
       "{'lr': Pipeline(steps=[('standardscaler', StandardScaler()),\n",
       "                 ('logisticregression', LogisticRegression(max_iter=1000))]),\n",
       " 'rc': Pipeline(steps=[('standardscaler', StandardScaler()),\n",
       "                 ('ridgeclassifier', RidgeClassifier())]),\n",
       " 'rf': Pipeline(steps=[('standardscaler', StandardScaler()),\n",
       "                 ('randomforestclassifier', RandomForestClassifier())]),\n",
       " 'gb': Pipeline(steps=[('standardscaler', StandardScaler()),\n",
       "                 ('gradientboostingclassifier', GradientBoostingClassifier())])}"
      ]
     },
     "execution_count": 124,
     "metadata": {},
     "output_type": "execute_result"
    }
   ],
   "source": [
    "fit_models"
   ]
  },
  {
   "cell_type": "code",
   "execution_count": 125,
   "id": "12e1dc24",
   "metadata": {},
   "outputs": [
    {
     "data": {
      "text/plain": [
       "array(['4_1', '4_2', '4_2', ..., '4_2', '3_2', '4_2'], dtype=object)"
      ]
     },
     "execution_count": 125,
     "metadata": {},
     "output_type": "execute_result"
    }
   ],
   "source": [
    "fit_models['lr'].predict(X_test)"
   ]
  },
  {
   "cell_type": "markdown",
   "id": "5d1c8e0e",
   "metadata": {},
   "source": [
    "## Evaluating the Models"
   ]
  },
  {
   "cell_type": "code",
   "execution_count": 126,
   "id": "4c887aa9",
   "metadata": {},
   "outputs": [],
   "source": [
    "from sklearn.metrics import accuracy_score # Accuracy metrics \n",
    "import pickle "
   ]
  },
  {
   "cell_type": "code",
   "execution_count": 127,
   "id": "aba4b3c2",
   "metadata": {
    "scrolled": true
   },
   "outputs": [
    {
     "name": "stdout",
     "output_type": "stream",
     "text": [
      "lr 1.0\n",
      "rc 0.9882720875684128\n",
      "rf 0.9953088350273651\n",
      "gb 0.9937451133698202\n"
     ]
    }
   ],
   "source": [
    "for algo, model in fit_models.items():\n",
    "    yhat = model.predict(X_test)\n",
    "    print(algo, accuracy_score(y_test, yhat))"
   ]
  },
  {
   "cell_type": "code",
   "execution_count": 128,
   "id": "fb0e5762",
   "metadata": {},
   "outputs": [
    {
     "data": {
      "text/plain": [
       "3542    4_1\n",
       "3728    4_2\n",
       "3655    4_2\n",
       "4217    4_2\n",
       "1637    3_2\n",
       "       ... \n",
       "1102    3_1\n",
       "1101    3_1\n",
       "3739    4_2\n",
       "2783    3_2\n",
       "2075    4_2\n",
       "Name: class, Length: 1279, dtype: object"
      ]
     },
     "execution_count": 128,
     "metadata": {},
     "output_type": "execute_result"
    }
   ],
   "source": [
    "y_test"
   ]
  },
  {
   "cell_type": "code",
   "execution_count": 129,
   "id": "e8018a5c",
   "metadata": {},
   "outputs": [],
   "source": [
    "with open('waist2.pkl', 'wb') as f:\n",
    "    pickle.dump(fit_models['rf'], f)"
   ]
  },
  {
   "cell_type": "code",
   "execution_count": 130,
   "id": "2566b63c",
   "metadata": {},
   "outputs": [],
   "source": [
    "from sklearn.metrics import confusion_matrix, plot_confusion_matrix\n",
    "import matplotlib.pyplot as plt"
   ]
  },
  {
   "cell_type": "code",
   "execution_count": 131,
   "id": "268971ed",
   "metadata": {},
   "outputs": [
    {
     "data": {
      "text/plain": [
       "Text(0.5, 1.0, 'Confusion Matrix')"
      ]
     },
     "execution_count": 131,
     "metadata": {},
     "output_type": "execute_result"
    },
    {
     "data": {
      "image/png": "[encoded data removed]",
      "text/plain": [
       "<Figure size 432x288 with 2 Axes>"
      ]
     },
     "metadata": {
      "needs_background": "light"
     },
     "output_type": "display_data"
    }
   ],
   "source": [
    "label=['1','2','3_1','3_2','4_1','4_2'] #waist\n",
    "# label=['1','2','3_1','3_2','4','5_1','5_2','6_1','6_2','6_3'] # legs라벨 설정\n",
    "plot = plot_confusion_matrix(fit_models['rf'], # 분류 모델\n",
    "                             X_test, y_test, # 예측 데이터와 예측값의 정답(y_true)\n",
    "                             display_labels=label, # 표에 표시할 labels\n",
    "                             cmap=plt.cm.Blues, # 컬러맵(plt.cm.Reds, plt.cm.rainbow 등이 있음)\n",
    "                             normalize=None) # 'true', 'pred', 'all' 중에서 지정 가능. default=None\n",
    "plot.ax_.set_title('Confusion Matrix')"
   ]
  },
  {
   "cell_type": "code",
   "execution_count": null,
   "id": "05b8d017",
   "metadata": {},
   "outputs": [],
   "source": []
  }
 ],
 "metadata": {
  "kernelspec": {
   "display_name": "Python 3 (ipykernel)",
   "language": "python",
   "name": "python3"
  },
  "language_info": {
   "codemirror_mode": {
    "name": "ipython",
    "version": 3
   },
   "file_extension": ".py",
   "mimetype": "text/x-python",
   "name": "python",
   "nbconvert_exporter": "python",
   "pygments_lexer": "ipython3",
   "version": "3.9.7"
  }
 },
 "nbformat": 4,
 "nbformat_minor": 5
}
