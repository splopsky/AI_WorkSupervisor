{
 "cells": [
  {
   "cell_type": "code",
   "execution_count": 1,
   "id": "0466e198",
   "metadata": {},
   "outputs": [],
   "source": [
    "import mediapipe as mp # Import mediapipe\n",
    "import cv2 # Import opencv"
   ]
  },
  {
   "cell_type": "code",
   "execution_count": 2,
   "id": "13aa4554",
   "metadata": {},
   "outputs": [],
   "source": [
    "import csv\n",
    "import os\n",
    "import numpy as np"
   ]
  },
  {
   "cell_type": "code",
   "execution_count": 14,
   "id": "dbd8c9b6",
   "metadata": {},
   "outputs": [],
   "source": [
    "mp_drawing = mp.solutions.drawing_utils # Drawing helpers\n",
    "mp_pose = mp.solutions.pose # Mediapipe Solutions\n",
    "mp_holistic = mp.solutions.holistic"
   ]
  },
  {
   "cell_type": "code",
   "execution_count": 12,
   "id": "796f58a6",
   "metadata": {},
   "outputs": [],
   "source": [
    "cap = cv2.VideoCapture(0)\n",
    "# Initiate holistic model\n",
    "with mp_pose.Pose(min_detection_confidence=0.5, min_tracking_confidence=0.5) as pose:\n",
    "    \n",
    "    while cap.isOpened():\n",
    "        ret, frame = cap.read()\n",
    "        \n",
    "        # Recolor Feed\n",
    "        image = cv2.cvtColor(frame, cv2.COLOR_BGR2RGB)\n",
    "        image.flags.writeable = False        \n",
    "        \n",
    "        # Make Detections\n",
    "        results = pose.process(image)\n",
    "        \n",
    "        # Recolor image back to BGR for rendering\n",
    "        image.flags.writeable = True   \n",
    "        image = cv2.cvtColor(image, cv2.COLOR_RGB2BGR)\n",
    "        \n",
    "        #print(results.pose_landmarks.landmark)\n",
    "        \n",
    "        \n",
    "        # 4. Pose Detections\n",
    "        mp_drawing.draw_landmarks(image, results.pose_landmarks, mp_pose.POSE_CONNECTIONS, \n",
    "                                 mp_drawing.DrawingSpec(color=(245,117,66), thickness=2, circle_radius=4),\n",
    "                                 mp_drawing.DrawingSpec(color=(245,66,230), thickness=2, circle_radius=2)\n",
    "                                 )\n",
    "        \n",
    "                        \n",
    "        cv2.imshow('Raw Webcam Feed', cv2.flip(image, 1))\n",
    "\n",
    "        if cv2.waitKey(10) & 0xFF == ord('q'):\n",
    "            break\n",
    "\n",
    "cap.release()\n",
    "cv2.destroyAllWindows()"
   ]
  },
  {
   "cell_type": "code",
   "execution_count": 6,
   "id": "d93827df",
   "metadata": {},
   "outputs": [],
   "source": [
    "num_coords = len(results.pose_landmarks.landmark)"
   ]
  },
  {
   "cell_type": "code",
   "execution_count": 7,
   "id": "ae0bba96",
   "metadata": {},
   "outputs": [],
   "source": [
    "# 좌표 저장을 위한 리스트 생성. 첫번째 항목은 분류할 동작의 클래스 이름.\n",
    "landmarks = ['class']\n",
    "for val in range(1, num_coords+1):\n",
    "    landmarks += ['x{}'.format(val), 'y{}'.format(val), 'z{}'.format(val), 'v{}'.format(val)]"
   ]
  },
  {
   "cell_type": "code",
   "execution_count": 8,
   "id": "a34ae65a",
   "metadata": {},
   "outputs": [],
   "source": [
    "with open('coords.csv', mode='w', newline='') as f:\n",
    "    csv_writer = csv.writer(f, delimiter=',', quotechar='\"', quoting=csv.QUOTE_MINIMAL)\n",
    "    csv_writer.writerow(landmarks)"
   ]
  },
  {
   "cell_type": "code",
   "execution_count": 22,
   "id": "02f09710",
   "metadata": {},
   "outputs": [],
   "source": [
    "class_name = \"face2\""
   ]
  },
  {
   "cell_type": "code",
   "execution_count": 23,
   "id": "aebf6fbe",
   "metadata": {},
   "outputs": [],
   "source": [
    "cap = cv2.VideoCapture(0)\n",
    "# Initiate holistic model\n",
    "with mp_holistic.Holistic(min_detection_confidence=0.5, min_tracking_confidence=0.5) as holistic:\n",
    "    \n",
    "    while cap.isOpened():\n",
    "        ret, frame = cap.read()\n",
    "        \n",
    "        # Recolor Feed\n",
    "        image = cv2.cvtColor(frame, cv2.COLOR_BGR2RGB)\n",
    "        image.flags.writeable = False        \n",
    "        \n",
    "        # Make Detections\n",
    "        results = holistic.process(image)\n",
    "\n",
    "        # Recolor image back to BGR for rendering\n",
    "        image.flags.writeable = True   \n",
    "        image = cv2.cvtColor(image, cv2.COLOR_RGB2BGR)\n",
    "        \n",
    "        \n",
    "        # 4. Pose Detections\n",
    "        mp_drawing.draw_landmarks(image, results.pose_landmarks, mp_holistic.POSE_CONNECTIONS, \n",
    "                                 mp_drawing.DrawingSpec(color=(245,117,66), thickness=2, circle_radius=4),\n",
    "                                 mp_drawing.DrawingSpec(color=(245,66,230), thickness=2, circle_radius=2)\n",
    "                                 )\n",
    "        \n",
    "        # Export coordinates\n",
    "        try:\n",
    "            # Extract Pose landmarks\n",
    "            pose = results.pose_world_landmarks.landmark\n",
    "            pose_row = list(np.array([[\"{:.7f}\".format(landmark.x), \"{:.7f}\".format(landmark.y), \"{:.7f}\".format(landmark.z), \"{:.7f}\".format(landmark.visibility)] for landmark in pose]).flatten())\n",
    "            \n",
    "            # Concate rows\n",
    "            row = pose_row\n",
    "            # Append class name \n",
    "            row.insert(0, class_name)\n",
    "            \n",
    "            # Export to CSV\n",
    "            with open('coords.csv', mode='a', newline='') as f:\n",
    "                csv_writer = csv.writer(f, delimiter=',', quotechar='\"', quoting=csv.QUOTE_MINIMAL)\n",
    "                csv_writer.writerow(row) \n",
    "            \n",
    "        except:\n",
    "            pass\n",
    "                        \n",
    "        cv2.imshow('Raw Webcam Feed', cv2.flip(image, 1))\n",
    "\n",
    "        if cv2.waitKey(10) & 0xFF == ord('q'):\n",
    "            break\n",
    "\n",
    "cap.release()\n",
    "cv2.destroyAllWindows()"
   ]
  },
  {
   "cell_type": "code",
   "execution_count": 21,
   "id": "0c15a71b",
   "metadata": {},
   "outputs": [
    {
     "data": {
      "text/plain": [
       "array([['0.0187321', '-0.6244495', '-0.2151067', '0.9961768'],\n",
       "       ['0.0285928', '-0.6588701', '-0.1993116', '0.9966590'],\n",
       "       ['0.0291491', '-0.6587456', '-0.1988231', '0.9966612'],\n",
       "       ['0.0288567', '-0.6593617', '-0.1997995', '0.9967943'],\n",
       "       ['-0.0029750', '-0.6568913', '-0.1970164', '0.9966219'],\n",
       "       ['-0.0021894', '-0.6575819', '-0.1986185', '0.9965130'],\n",
       "       ['-0.0031000', '-0.6584114', '-0.1989971', '0.9967361'],\n",
       "       ['0.0741237', '-0.6346843', '-0.0993776', '0.9974866'],\n",
       "       ['-0.0651290', '-0.6328152', '-0.1023725', '0.9966078'],\n",
       "       ['0.0368719', '-0.5967139', '-0.1824631', '0.9934920'],\n",
       "       ['-0.0031752', '-0.5938415', '-0.1810138', '0.9934879'],\n",
       "       ['0.1608139', '-0.4448940', '-0.0463908', '0.9011457'],\n",
       "       ['-0.1630973', '-0.4561642', '-0.0731364', '0.8985484'],\n",
       "       ['0.1709440', '-0.3427214', '-0.1720033', '0.6621099'],\n",
       "       ['-0.1761722', '-0.3523906', '-0.1868181', '0.6960315'],\n",
       "       ['0.0690379', '-0.3954115', '-0.2797360', '0.7010909'],\n",
       "       ['-0.1351483', '-0.3810680', '-0.3408580', '0.7045807'],\n",
       "       ['0.0411908', '-0.3907029', '-0.2923344', '0.6726502'],\n",
       "       ['-0.1099660', '-0.3731428', '-0.3716670', '0.6431708'],\n",
       "       ['0.0338466', '-0.4142109', '-0.2972696', '0.6890303'],\n",
       "       ['-0.1021251', '-0.3964103', '-0.3600509', '0.6666542'],\n",
       "       ['0.0564703', '-0.3970099', '-0.2764772', '0.6689113'],\n",
       "       ['-0.1206967', '-0.3803624', '-0.3419349', '0.6507789'],\n",
       "       ['0.1306665', '-0.0058373', '0.0240697', '0.0024719'],\n",
       "       ['-0.1303849', '-0.0195933', '-0.0195150', '0.0019624'],\n",
       "       ['0.1721215', '0.0307019', '-0.1285987', '0.0101076'],\n",
       "       ['-0.0019286', '-0.1384306', '-0.1912159', '0.0042710'],\n",
       "       ['0.2379176', '0.2634517', '-0.0027283', '0.0004255'],\n",
       "       ['0.0183831', '0.1371386', '-0.1556456', '0.0001830'],\n",
       "       ['0.2275390', '0.3307999', '0.0414300', '0.0002931'],\n",
       "       ['0.0089375', '0.2062909', '-0.1033674', '0.0002284'],\n",
       "       ['0.3527564', '-0.0052424', '-0.2661524', '0.0006295'],\n",
       "       ['0.0366843', '-0.0386221', '-0.3959298', '0.0007658']],\n",
       "      dtype='<U10')"
      ]
     },
     "execution_count": 21,
     "metadata": {},
     "output_type": "execute_result"
    }
   ],
   "source": [
    "np.array([[\"{:.7f}\".format(landmark.x), \"{:.7f}\".format(landmark.y), \"{:.7f}\".format(landmark.z), \"{:.7f}\".format(landmark.visibility)] for landmark in results.pose_world_landmarks.landmark])"
   ]
  },
  {
   "cell_type": "code",
   "execution_count": null,
   "id": "f6dece74",
   "metadata": {},
   "outputs": [],
   "source": []
  }
 ],
 "metadata": {
  "kernelspec": {
   "display_name": "Python 3",
   "language": "python",
   "name": "python3"
  },
  "language_info": {
   "codemirror_mode": {
    "name": "ipython",
    "version": 3
   },
   "file_extension": ".py",
   "mimetype": "text/x-python",
   "name": "python",
   "nbconvert_exporter": "python",
   "pygments_lexer": "ipython3",
   "version": "3.8.8"
  }
 },
 "nbformat": 4,
 "nbformat_minor": 5
}
